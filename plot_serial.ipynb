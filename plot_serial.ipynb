{
 "cells": [
  {
   "cell_type": "code",
   "execution_count": null,
   "metadata": {},
   "outputs": [],
   "source": [
    "import numpy as np\n",
    "import serial\n",
    "import matplotlib.pyplot as plt\n",
    "from matplotlib.animation import FuncAnimation\n",
    "import logging\n",
    "%matplotlib widget"
   ]
  },
  {
   "cell_type": "code",
   "execution_count": null,
   "metadata": {},
   "outputs": [],
   "source": [
    "port = serial.Serial('/dev/ttyACM0')\n",
    "f, ax = plt.subplots(1,1)\n",
    "\n",
    "x_axis = range(150)\n",
    "\n",
    "line = ax.plot(x_axis, [0] * 150)\n",
    "ax.set_ylim(0, 1024)\n",
    "\n",
    "def int_from_serial():\n",
    "    '''\n",
    "    To use in as frames generator in FuncAnimation\n",
    "    \n",
    "    Need to keep state here\n",
    "    '''\n",
    "    \n",
    "\n",
    "    readings = [0] * 150\n",
    "\n",
    "    while True:\n",
    "        if port.in_waiting == 0 or (reading := port.read_all().split()[-1]) == b'':\n",
    "            reading = 0\n",
    "        else:\n",
    "            reading = int(reading)\n",
    "\n",
    "        #logging.warning(reading)\n",
    "        readings.pop(0)\n",
    "        readings.append(reading)\n",
    "\n",
    "\n",
    "        yield readings\n",
    "    \n",
    "\n",
    "def func(readings):  \n",
    "    x_axis = range(150)\n",
    "    ax.clear()\n",
    "    ax.set_ylim(0, 1024)\n",
    "    return ax.plot(x_axis, readings)\n",
    "    \n",
    "\n",
    "animation = FuncAnimation(f, func, int_from_serial, blit=True)\n",
    "animation\n"
   ]
  },
  {
   "cell_type": "code",
   "execution_count": null,
   "metadata": {},
   "outputs": [],
   "source": []
  }
 ],
 "metadata": {
  "kernelspec": {
   "display_name": "Python 3",
   "language": "python",
   "name": "python3"
  },
  "language_info": {
   "codemirror_mode": {
    "name": "ipython",
    "version": 3
   },
   "file_extension": ".py",
   "mimetype": "text/x-python",
   "name": "python",
   "nbconvert_exporter": "python",
   "pygments_lexer": "ipython3",
   "version": "3.8.2"
  }
 },
 "nbformat": 4,
 "nbformat_minor": 4
}
